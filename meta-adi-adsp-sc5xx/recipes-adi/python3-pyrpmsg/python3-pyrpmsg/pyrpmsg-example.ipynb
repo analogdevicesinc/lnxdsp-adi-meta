{
 "cells": [
  {
   "cell_type": "markdown",
   "id": "daada319-61c3-4445-8552-f0c541994d5e",
   "metadata": {},
   "source": [
    "# ADI `pyrpmsg` - Juypter example"
   ]
  },
  {
   "cell_type": "code",
   "execution_count": 5,
   "id": "4786ead9-b227-43e8-b298-faca735a3151",
   "metadata": {},
   "outputs": [],
   "source": [
    "# Import Libraries\n",
    "import pyrpmsg\n",
    "from time import sleep"
   ]
  },
  {
   "cell_type": "code",
   "execution_count": 2,
   "id": "deb324bf-8faa-421f-9b6a-a4f26bc9f3bf",
   "metadata": {},
   "outputs": [],
   "source": [
    "# Setup Cores\n",
    "c0 = pyrpmsg.RPMsgCore(0)\n",
    "c0.stop()\n",
    "c0.start()"
   ]
  },
  {
   "cell_type": "code",
   "execution_count": 3,
   "id": "37ff7e7b-fcff-490d-8b10-fbb2f94f3663",
   "metadata": {},
   "outputs": [
    {
     "name": "stdout",
     "output_type": "stream",
     "text": [
      "dev='virtio0.sharc-echo.-1.', e='151'\n",
      "dev='virtio0.sharc-echo-cap.-1.', e='161'\n"
     ]
    }
   ],
   "source": [
    "# Setup Endpoints\n",
    "e0 = pyrpmsg.RPMsgEndpoint.Bind(\"virtio0.sharc-echo.-1.151\", 100)\n",
    "e1 = pyrpmsg.RPMsgEndpoint.Bind(\"virtio0.sharc-echo-cap.-1.161\", 101)\n",
    "\n",
    "e0.open()\n",
    "e1.open()"
   ]
  },
  {
   "cell_type": "code",
   "execution_count": 4,
   "id": "2b6a2e08-f3f5-418d-879c-73b0ab19222b",
   "metadata": {},
   "outputs": [
    {
     "name": "stdout",
     "output_type": "stream",
     "text": [
      "Wrote hello world!\n",
      "Read hello world! => echo from Core1\n",
      "\n",
      "hello world! => echo from Core1\n",
      "\n",
      "Wrote hello world!\n",
      "Read HELLO WORLD! => capitalized echo from Core1\n",
      "\n",
      "HELLO WORLD! => capitalized echo from Core1\n",
      "\n"
     ]
    }
   ],
   "source": [
    "# Test writing and reading\n",
    "e0.write(\"hello world!\")\n",
    "print(e0.read(100))\n",
    "\n",
    "e1.write(\"hello world!\")\n",
    "print(e1.read(100))"
   ]
  },
  {
   "cell_type": "code",
   "execution_count": 7,
   "id": "10ca2c8f-077e-4cae-9a32-483a86f3a813",
   "metadata": {},
   "outputs": [
    {
     "name": "stdout",
     "output_type": "stream",
     "text": [
      "Wrote Write 0\n",
      "Wrote Write 1\n",
      "Wrote Write 2\n",
      "Wrote Write 3\n",
      "Wrote Write 4\n",
      "Read Write 0 => echo from Core1\n",
      "\n",
      "READ: Write 0 => echo from Core1\n",
      "\n",
      "Read Write 1 => echo from Core1\n",
      "\n",
      "READ: Write 1 => echo from Core1\n",
      "\n",
      "Read Write 2 => echo from Core1\n",
      "\n",
      "READ: Write 2 => echo from Core1\n",
      "\n",
      "Read Write 3 => echo from Core1\n",
      "\n",
      "READ: Write 3 => echo from Core1\n",
      "\n",
      "Read Write 4 => echo from Core1\n",
      "\n",
      "READ: Write 4 => echo from Core1\n",
      "\n"
     ]
    }
   ],
   "source": [
    "# Test lazy writes\n",
    "for n in range(5):\n",
    "    e0.lazy_write(f\"Write {n}\")\n",
    "\n",
    "sleep(2)\n",
    "\n",
    "for n in range(5):\n",
    "    print(\"READ:\", e0.read(100))\n",
    "    sleep(0.1)"
   ]
  }
 ],
 "metadata": {
  "kernelspec": {
   "display_name": "Python 3 (ipykernel)",
   "language": "python",
   "name": "python3"
  },
  "language_info": {
   "codemirror_mode": {
    "name": "ipython",
    "version": 3
   },
   "file_extension": ".py",
   "mimetype": "text/x-python",
   "name": "python",
   "nbconvert_exporter": "python",
   "pygments_lexer": "ipython3",
   "version": "3.12.4"
  }
 },
 "nbformat": 4,
 "nbformat_minor": 5
}
